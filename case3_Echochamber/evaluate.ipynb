{
 "cells": [
  {
   "cell_type": "code",
   "execution_count": 7,
   "metadata": {},
   "outputs": [],
   "source": [
    "import pandas as pd\n",
    "\n",
    "llama = pd.read_csv('results_llama2-70b-chat.csv')\n",
    "gpt = pd.read_csv('results_gpt-4-0613.csv')\n",
    "gemini = pd.read_csv('results_gemini.csv')"
   ]
  },
  {
   "cell_type": "code",
   "execution_count": null,
   "metadata": {},
   "outputs": [],
   "source": [
    "gpt['acc'] = (gpt['pd'] + gpt['npd']) / (gpt['pd'] +gpt['npd']+gpt['wa'])\n",
    "llama['acc'] = (llama['pd'] + llama['npd']) / (llama['pd'] +llama['npd']+llama['wa'])\n",
    "gemini['acc'] = (gemini['pd'] + gemini['npd']) / (gemini['pd'] +gemini['npd']+gemini['wa'])"
   ]
  },
  {
   "cell_type": "code",
   "execution_count": 9,
   "metadata": {},
   "outputs": [],
   "source": [
    "gpt.groupby(['case']).mean('acc')"
   ]
  },
  {
   "cell_type": "code",
   "execution_count": null,
   "metadata": {},
   "outputs": [],
   "source": [
    "llama.groupby(['case']).mean('acc')"
   ]
  },
  {
   "cell_type": "code",
   "execution_count": null,
   "metadata": {},
   "outputs": [],
   "source": [
    "gemini.groupby(['case']).mean('acc')"
   ]
  }
 ],
 "metadata": {
  "kernelspec": {
   "display_name": "test",
   "language": "python",
   "name": "python3"
  },
  "language_info": {
   "codemirror_mode": {
    "name": "ipython",
    "version": 3
   },
   "file_extension": ".py",
   "mimetype": "text/x-python",
   "name": "python",
   "nbconvert_exporter": "python",
   "pygments_lexer": "ipython3",
   "version": "3.10.12"
  }
 },
 "nbformat": 4,
 "nbformat_minor": 2
}
