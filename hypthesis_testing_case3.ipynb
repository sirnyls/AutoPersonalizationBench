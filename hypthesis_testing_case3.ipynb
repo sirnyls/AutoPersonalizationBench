{
 "cells": [
  {
   "cell_type": "code",
   "execution_count": 17,
   "metadata": {},
   "outputs": [],
   "source": [
    "import pandas as pd\n",
    "import numpy as np\n",
    "from scipy import stats\n",
    "import os \n",
    "def transform_column_to_numpy_array(dataframe, column_name):\n",
    "    # Splitting the strings by ';' in each row, converting to integers, and flattening\n",
    "    all_values = [int(value) for row in dataframe[column_name] for value in row.split(';')]\n",
    "    \n",
    "    # Converting the list to a NumPy array\n",
    "    numpy_array = np.array(all_values)\n",
    "    \n",
    "    return numpy_array\n",
    "\n",
    "\n",
    "def perform_t_test_and_save(model_name, sae_path,  output_csv_path):\n",
    "    # Load data from text files\n",
    "    df = pd.read_csv(sae_path)\n",
    "    \n",
    "    df['acc'] = (df['pd'] + df['npd']) / (df['pd'] +df['npd']+df['wa'])\n",
    "    df_wf = df[df['case'].isin(['WF_FD', 'WF_SD'])].sort_values(by=['dataset', 'case'])\n",
    "    df_cf = df[df['case'].isin(['CF_FD', 'CF_SD'])].sort_values(by=['dataset', 'case'])\n",
    "\n",
    "    # Calling the function with the sample DataFrame and column name\n",
    "    sample_wf = transform_column_to_numpy_array(df_wf, 'persuasion_counts')\n",
    "    sample_cf = transform_column_to_numpy_array(df_cf, 'persuasion_counts')\n",
    "\n",
    "\n",
    "    print(len(sample_wf))\n",
    "    print(len(sample_cf))\n",
    "    # Convert dataframes to numpy arrays\n",
    "    #sample_wf = df_wf['acc'].to_numpy()\n",
    "    #sample_cf = df_cf['acc'].to_numpy()\n",
    "    \n",
    "    # Perform t tests\n",
    "    result = stats.ttest_rel(sample_cf, sample_wf)\n",
    "    \n",
    "    # Prepare data for CSV\n",
    "    data = [\n",
    "        [model_name, \"WF vs CF\", result.statistic, result.pvalue],\n",
    "    ]\n",
    "    \n",
    "    # Create DataFrame\n",
    "    df = pd.DataFrame(data, columns=[\"Model\", \"Metric\", \"Statistic\", \"P-Value\"])\n",
    "    \n",
    "    # Check if the CSV file already exists to decide on adding a header\n",
    "    file_exists = os.path.isfile(output_csv_path)\n",
    "    \n",
    "    # Save to CSV, append if file exists, include header if file does not exist\n",
    "    df.to_csv(output_csv_path, mode='a', index=False, header=not file_exists)\n",
    "    \n",
    "    print(f\"Results saved to {output_csv_path}\")\n"
   ]
  },
  {
   "cell_type": "code",
   "execution_count": 3,
   "metadata": {},
   "outputs": [
    {
     "name": "stdout",
     "output_type": "stream",
     "text": [
      "Results saved to paired_t_test_two_sided_results_case3.csv\n",
      "Results saved to paired_t_test_two_sided_results_case3.csv\n",
      "Results saved to paired_t_test_two_sided_results_case3.csv\n",
      "Results saved to paired_t_test_two_sided_results_case3.csv\n",
      "Results saved to paired_t_test_two_sided_results_case3.csv\n",
      "Results saved to paired_t_test_two_sided_results_case3.csv\n",
      "Results saved to paired_t_test_two_sided_results_case3.csv\n",
      "Results saved to paired_t_test_two_sided_results_case3.csv\n"
     ]
    }
   ],
   "source": [
    "perform_t_test_and_save(\n",
    "    \"Alpaca\",\n",
    "    \"/Users/nils/AutoPersonalizationBench/case3_Echochamber/results/results_alpaca.csv\",\n",
    "    \"paired_t_test_two_sided_results_case3.csv\"\n",
    ")\n",
    "\n",
    "perform_t_test_and_save(\n",
    "    \"GPT-4\",\n",
    "    \"/Users/nils/AutoPersonalizationBench/case3_Echochamber/results/results_gpt-4-0613.csv\",\n",
    "    \"paired_t_test_two_sided_results_case3.csv\"\n",
    ")\n",
    "\n",
    "perform_t_test_and_save(\n",
    "    \"GPT-3.5-instruct\",\n",
    "    \"/Users/nils/AutoPersonalizationBench/case3_Echochamber/results/results_gpt-3.5-turbo-instruct.csv\",\n",
    "    \"paired_t_test_two_sided_results_case3.csv\"\n",
    ")\n",
    "\n",
    "\n",
    "perform_t_test_and_save(\n",
    "    \"Llama7B\",\n",
    "    \"/Users/nils/AutoPersonalizationBench/case3_Echochamber/results/results_llama2-7b-chat.csv\",\n",
    "    \"paired_t_test_two_sided_results_case3.csv\"\n",
    ")\n",
    "\n",
    "perform_t_test_and_save(\n",
    "    \"Llama13B\",\n",
    "    \"/Users/nils/AutoPersonalizationBench/case3_Echochamber/results/results_llama2-13b-chat.csv\",    \n",
    "    \"paired_t_test_two_sided_results_case3.csv\"\n",
    ")\n",
    "\n",
    "perform_t_test_and_save(\n",
    "    \"Llama70B\",\n",
    "    \"/Users/nils/AutoPersonalizationBench/case3_Echochamber/results/results_llama2-70b-chat.csv\",\n",
    "    \"paired_t_test_two_sided_results_case3.csv\"\n",
    ")\n",
    "\n",
    "perform_t_test_and_save(\n",
    "    \"Vicuna7B\",\n",
    "    \"/Users/nils/AutoPersonalizationBench/case3_Echochamber/results/results_vicuna-7b-v1.5.csv\",\n",
    "    \"paired_t_test_two_sided_results_case3.csv\"\n",
    ")\n",
    "\n",
    "perform_t_test_and_save(\n",
    "    \"Vicuna13B\",\n",
    "    \"/Users/nils/AutoPersonalizationBench/case3_Echochamber/results/results_vicuna-13b-v1.5.csv\",\n",
    "    \"paired_t_test_two_sided_results_case3.csv\"\n",
    ")\n",
    "\n"
   ]
  },
  {
   "cell_type": "code",
   "execution_count": 18,
   "metadata": {},
   "outputs": [
    {
     "name": "stdout",
     "output_type": "stream",
     "text": [
      "3664\n",
      "3664\n",
      "Results saved to paired_t_test_two_sided_results_case3.csv\n"
     ]
    }
   ],
   "source": [
    "perform_t_test_and_save(\n",
    "    \"Gemini\",\n",
    "    \"/Users/nils/AutoPersonalizationBench/case3_Echochamber/results/results_gemini.csv\",\n",
    "    \"paired_t_test_two_sided_results_case3.csv\"\n",
    ")"
   ]
  }
 ],
 "metadata": {
  "kernelspec": {
   "display_name": "test",
   "language": "python",
   "name": "python3"
  },
  "language_info": {
   "codemirror_mode": {
    "name": "ipython",
    "version": 3
   },
   "file_extension": ".py",
   "mimetype": "text/x-python",
   "name": "python",
   "nbconvert_exporter": "python",
   "pygments_lexer": "ipython3",
   "version": "3.10.12"
  }
 },
 "nbformat": 4,
 "nbformat_minor": 2
}
