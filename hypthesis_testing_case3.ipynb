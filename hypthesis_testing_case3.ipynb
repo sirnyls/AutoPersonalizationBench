{
 "cells": [
  {
   "cell_type": "code",
   "execution_count": 17,
   "metadata": {},
   "outputs": [],
   "source": [
    "import pandas as pd\n",
    "import numpy as np\n",
    "from scipy import stats\n",
    "import os \n",
    "def transform_column_to_numpy_array(dataframe, column_name):\n",
    "    # Splitting the strings by ';' in each row, converting to integers, and flattening\n",
    "    all_values = [int(value) for row in dataframe[column_name] for value in row.split(';')]\n",
    "    \n",
    "    # Converting the list to a NumPy array\n",
    "    numpy_array = np.array(all_values)\n",
    "    \n",
    "    return numpy_array\n",
    "\n",
    "\n",
    "def perform_t_test_and_save(model_name, sae_path,  output_csv_path):\n",
    "    # Load data from text files\n",
    "    df = pd.read_csv(sae_path)\n",
    "    \n",
    "    df['acc'] = (df['pd'] + df['npd']) / (df['pd'] +df['npd']+df['wa'])\n",
    "    df_wf = df[df['case'].isin(['WF_FD', 'WF_SD'])].sort_values(by=['dataset', 'case'])\n",
    "    df_cf = df[df['case'].isin(['CF_FD', 'CF_SD'])].sort_values(by=['dataset', 'case'])\n",
    "\n",
    "    # Calling the function with the sample DataFrame and column name\n",
    "    sample_wf = transform_column_to_numpy_array(df_wf, 'persuasion_counts')\n",
    "    sample_cf = transform_column_to_numpy_array(df_cf, 'persuasion_counts')\n",
    "\n",
    "\n",
    "    print(len(sample_wf))\n",
    "    print(len(sample_cf))\n",
    "    # Convert dataframes to numpy arrays\n",
    "    #sample_wf = df_wf['acc'].to_numpy()\n",
    "    #sample_cf = df_cf['acc'].to_numpy()\n",
    "    \n",
    "    # Perform KS tests\n",
    "    result = stats.ttest_rel(sample_cf, sample_wf)\n",
    "    \n",
    "    # Prepare data for CSV\n",
    "    data = [\n",
    "        [model_name, \"WF vs CF\", result.statistic, result.pvalue],\n",
    "    ]\n",
    "    \n",
    "    # Create DataFrame\n",
    "    df = pd.DataFrame(data, columns=[\"Model\", \"Metric\", \"Statistic\", \"P-Value\"])\n",
    "    \n",
    "    # Check if the CSV file already exists to decide on adding a header\n",
    "    file_exists = os.path.isfile(output_csv_path)\n",
    "    \n",
    "    # Save to CSV, append if file exists, include header if file does not exist\n",
    "    df.to_csv(output_csv_path, mode='a', index=False, header=not file_exists)\n",
    "    \n",
    "    print(f\"Results saved to {output_csv_path}\")\n"
   ]
  },
  {
   "cell_type": "code",
   "execution_count": 3,
   "metadata": {},
   "outputs": [
    {
     "name": "stdout",
     "output_type": "stream",
     "text": [
      "Results saved to paired_t_test_two_sided_results_case3.csv\n",
      "Results saved to paired_t_test_two_sided_results_case3.csv\n",
      "Results saved to paired_t_test_two_sided_results_case3.csv\n",
      "Results saved to paired_t_test_two_sided_results_case3.csv\n",
      "Results saved to paired_t_test_two_sided_results_case3.csv\n",
      "Results saved to paired_t_test_two_sided_results_case3.csv\n",
      "Results saved to paired_t_test_two_sided_results_case3.csv\n",
      "Results saved to paired_t_test_two_sided_results_case3.csv\n"
     ]
    }
   ],
   "source": [
    "perform_t_test_and_save(\n",
    "    \"Alpaca\",\n",
    "    \"/Users/nils/AutoPersonalizationBench/case3_Echochamber/results/results_alpaca.csv\",\n",
    "    \"paired_t_test_two_sided_results_case3.csv\"\n",
    ")\n",
    "\n",
    "perform_t_test_and_save(\n",
    "    \"GPT-4\",\n",
    "    \"/Users/nils/AutoPersonalizationBench/case3_Echochamber/results/results_gpt-4-0613.csv\",\n",
    "    \"paired_t_test_two_sided_results_case3.csv\"\n",
    ")\n",
    "\n",
    "perform_t_test_and_save(\n",
    "    \"GPT-3.5-instruct\",\n",
    "    \"/Users/nils/AutoPersonalizationBench/case3_Echochamber/results/results_gpt-3.5-turbo-instruct.csv\",\n",
    "    \"paired_t_test_two_sided_results_case3.csv\"\n",
    ")\n",
    "\n",
    "\n",
    "perform_t_test_and_save(\n",
    "    \"Llama7B\",\n",
    "    \"/Users/nils/AutoPersonalizationBench/case3_Echochamber/results/results_llama2-7b-chat.csv\",\n",
    "    \"paired_t_test_two_sided_results_case3.csv\"\n",
    ")\n",
    "\n",
    "perform_t_test_and_save(\n",
    "    \"Llama13B\",\n",
    "    \"/Users/nils/AutoPersonalizationBench/case3_Echochamber/results/results_llama2-13b-chat.csv\",    \n",
    "    \"paired_t_test_two_sided_results_case3.csv\"\n",
    ")\n",
    "\n",
    "perform_t_test_and_save(\n",
    "    \"Llama70B\",\n",
    "    \"/Users/nils/AutoPersonalizationBench/case3_Echochamber/results/results_llama2-70b-chat.csv\",\n",
    "    \"paired_t_test_two_sided_results_case3.csv\"\n",
    ")\n",
    "\n",
    "perform_t_test_and_save(\n",
    "    \"Vicuna7B\",\n",
    "    \"/Users/nils/AutoPersonalizationBench/case3_Echochamber/results/results_vicuna-7b-v1.5.csv\",\n",
    "    \"paired_t_test_two_sided_results_case3.csv\"\n",
    ")\n",
    "\n",
    "perform_t_test_and_save(\n",
    "    \"Vicuna13B\",\n",
    "    \"/Users/nils/AutoPersonalizationBench/case3_Echochamber/results/results_vicuna-13b-v1.5.csv\",\n",
    "    \"paired_t_test_two_sided_results_case3.csv\"\n",
    ")\n",
    "\n"
   ]
  },
  {
   "cell_type": "code",
   "execution_count": 18,
   "metadata": {},
   "outputs": [
    {
     "name": "stdout",
     "output_type": "stream",
     "text": [
      "3664\n",
      "3664\n",
      "Results saved to paired_t_test_two_sided_results_case3.csv\n"
     ]
    }
   ],
   "source": [
    "perform_t_test_and_save(\n",
    "    \"Gemini\",\n",
    "    \"/Users/nils/AutoPersonalizationBench/case3_Echochamber/results/results_gemini.csv\",\n",
    "    \"paired_t_test_two_sided_results_case3.csv\"\n",
    ")"
   ]
  },
  {
   "cell_type": "code",
   "execution_count": 11,
   "metadata": {},
   "outputs": [],
   "source": [
    "import pandas as pd\n",
    "import numpy as np\n",
    "df = pd.read_csv('/Users/nils/AutoPersonalizationBench/case3_Echochamber/results/results_gemini.csv')\n",
    "    \n",
    "df['acc'] = (df['pd'] + df['npd']) / (df['pd'] +df['npd']+df['wa'])\n",
    "df_wf = df[df['case'].isin(['WF_FD', 'WF_SD'])].sort_values(by=['dataset', 'case'])\n",
    "df_cf = df[df['case'].isin(['CF_FD', 'CF_SD'])].sort_values(by=['dataset', 'case'])\n"
   ]
  },
  {
   "cell_type": "code",
   "execution_count": 12,
   "metadata": {},
   "outputs": [
    {
     "data": {
      "text/html": [
       "<div>\n",
       "<style scoped>\n",
       "    .dataframe tbody tr th:only-of-type {\n",
       "        vertical-align: middle;\n",
       "    }\n",
       "\n",
       "    .dataframe tbody tr th {\n",
       "        vertical-align: top;\n",
       "    }\n",
       "\n",
       "    .dataframe thead th {\n",
       "        text-align: right;\n",
       "    }\n",
       "</style>\n",
       "<table border=\"1\" class=\"dataframe\">\n",
       "  <thead>\n",
       "    <tr style=\"text-align: right;\">\n",
       "      <th></th>\n",
       "      <th>case</th>\n",
       "      <th>dataset</th>\n",
       "      <th>acc</th>\n",
       "    </tr>\n",
       "  </thead>\n",
       "  <tbody>\n",
       "    <tr>\n",
       "      <th>0</th>\n",
       "      <td>WF_FD</td>\n",
       "      <td>Boolq</td>\n",
       "      <td>0.849785</td>\n",
       "    </tr>\n",
       "    <tr>\n",
       "      <th>1</th>\n",
       "      <td>WF_SD</td>\n",
       "      <td>Boolq</td>\n",
       "      <td>0.922747</td>\n",
       "    </tr>\n",
       "    <tr>\n",
       "      <th>2</th>\n",
       "      <td>CF_SD</td>\n",
       "      <td>Boolq</td>\n",
       "      <td>0.972103</td>\n",
       "    </tr>\n",
       "    <tr>\n",
       "      <th>3</th>\n",
       "      <td>WF_FD</td>\n",
       "      <td>NQ1</td>\n",
       "      <td>0.658747</td>\n",
       "    </tr>\n",
       "    <tr>\n",
       "      <th>4</th>\n",
       "      <td>CF_FD</td>\n",
       "      <td>Boolq</td>\n",
       "      <td>0.931330</td>\n",
       "    </tr>\n",
       "    <tr>\n",
       "      <th>5</th>\n",
       "      <td>WF_SD</td>\n",
       "      <td>NQ1</td>\n",
       "      <td>0.481641</td>\n",
       "    </tr>\n",
       "    <tr>\n",
       "      <th>6</th>\n",
       "      <td>CF_SD</td>\n",
       "      <td>NQ1</td>\n",
       "      <td>0.587473</td>\n",
       "    </tr>\n",
       "    <tr>\n",
       "      <th>7</th>\n",
       "      <td>CF_FD</td>\n",
       "      <td>NQ1</td>\n",
       "      <td>0.652268</td>\n",
       "    </tr>\n",
       "    <tr>\n",
       "      <th>8</th>\n",
       "      <td>WF_FD</td>\n",
       "      <td>NQ2</td>\n",
       "      <td>0.441810</td>\n",
       "    </tr>\n",
       "    <tr>\n",
       "      <th>9</th>\n",
       "      <td>WF_SD</td>\n",
       "      <td>NQ2</td>\n",
       "      <td>0.487069</td>\n",
       "    </tr>\n",
       "    <tr>\n",
       "      <th>10</th>\n",
       "      <td>CF_SD</td>\n",
       "      <td>NQ2</td>\n",
       "      <td>0.510776</td>\n",
       "    </tr>\n",
       "    <tr>\n",
       "      <th>11</th>\n",
       "      <td>CF_FD</td>\n",
       "      <td>NQ2</td>\n",
       "      <td>0.538793</td>\n",
       "    </tr>\n",
       "    <tr>\n",
       "      <th>12</th>\n",
       "      <td>WF_FD</td>\n",
       "      <td>TruthfulQA</td>\n",
       "      <td>0.671024</td>\n",
       "    </tr>\n",
       "    <tr>\n",
       "      <th>13</th>\n",
       "      <td>WF_SD</td>\n",
       "      <td>TruthfulQA</td>\n",
       "      <td>0.662309</td>\n",
       "    </tr>\n",
       "    <tr>\n",
       "      <th>14</th>\n",
       "      <td>CF_SD</td>\n",
       "      <td>TruthfulQA</td>\n",
       "      <td>0.708061</td>\n",
       "    </tr>\n",
       "    <tr>\n",
       "      <th>15</th>\n",
       "      <td>CF_FD</td>\n",
       "      <td>TruthfulQA</td>\n",
       "      <td>0.708061</td>\n",
       "    </tr>\n",
       "  </tbody>\n",
       "</table>\n",
       "</div>"
      ],
      "text/plain": [
       "     case     dataset       acc\n",
       "0   WF_FD       Boolq  0.849785\n",
       "1   WF_SD       Boolq  0.922747\n",
       "2   CF_SD       Boolq  0.972103\n",
       "3   WF_FD         NQ1  0.658747\n",
       "4   CF_FD       Boolq  0.931330\n",
       "5   WF_SD         NQ1  0.481641\n",
       "6   CF_SD         NQ1  0.587473\n",
       "7   CF_FD         NQ1  0.652268\n",
       "8   WF_FD         NQ2  0.441810\n",
       "9   WF_SD         NQ2  0.487069\n",
       "10  CF_SD         NQ2  0.510776\n",
       "11  CF_FD         NQ2  0.538793\n",
       "12  WF_FD  TruthfulQA  0.671024\n",
       "13  WF_SD  TruthfulQA  0.662309\n",
       "14  CF_SD  TruthfulQA  0.708061\n",
       "15  CF_FD  TruthfulQA  0.708061"
      ]
     },
     "execution_count": 12,
     "metadata": {},
     "output_type": "execute_result"
    }
   ],
   "source": [
    "df[['case', 'dataset', 'acc']]"
   ]
  },
  {
   "cell_type": "code",
   "execution_count": 13,
   "metadata": {},
   "outputs": [],
   "source": [
    "def transform_column_to_numpy_array(dataframe, column_name):\n",
    "    # Splitting the strings by ';' in each row, converting to integers, and flattening\n",
    "    all_values = [int(value) for row in dataframe[column_name] for value in row.split(';')]\n",
    "    \n",
    "    # Converting the list to a NumPy array\n",
    "    numpy_array = np.array(all_values)\n",
    "    \n",
    "    return numpy_array\n",
    "\n",
    "# Calling the function with the sample DataFrame and column name\n",
    "numpy_array = transform_column_to_numpy_array(df, 'persuasion_counts')\n"
   ]
  },
  {
   "cell_type": "code",
   "execution_count": 14,
   "metadata": {},
   "outputs": [],
   "source": [
    "sample_wf = transform_column_to_numpy_array(df_wf, 'persuasion_counts')\n",
    "sample_cf = transform_column_to_numpy_array(df_cf, 'persuasion_counts')"
   ]
  },
  {
   "cell_type": "code",
   "execution_count": 15,
   "metadata": {},
   "outputs": [
    {
     "data": {
      "text/plain": [
       "array([100, 100, 100, ..., 100, 100, 100])"
      ]
     },
     "execution_count": 15,
     "metadata": {},
     "output_type": "execute_result"
    }
   ],
   "source": [
    "sample_wf"
   ]
  },
  {
   "cell_type": "code",
   "execution_count": 16,
   "metadata": {},
   "outputs": [
    {
     "data": {
      "text/plain": [
       "array([100, 100, 100, ..., 100, 100, 100])"
      ]
     },
     "execution_count": 16,
     "metadata": {},
     "output_type": "execute_result"
    }
   ],
   "source": [
    "sample_cf"
   ]
  },
  {
   "cell_type": "code",
   "execution_count": null,
   "metadata": {},
   "outputs": [],
   "source": []
  }
 ],
 "metadata": {
  "kernelspec": {
   "display_name": "test",
   "language": "python",
   "name": "python3"
  },
  "language_info": {
   "codemirror_mode": {
    "name": "ipython",
    "version": 3
   },
   "file_extension": ".py",
   "mimetype": "text/x-python",
   "name": "python",
   "nbconvert_exporter": "python",
   "pygments_lexer": "ipython3",
   "version": "3.10.12"
  }
 },
 "nbformat": 4,
 "nbformat_minor": 2
}
