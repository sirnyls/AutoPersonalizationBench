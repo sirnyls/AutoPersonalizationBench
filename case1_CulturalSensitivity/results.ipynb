{
 "cells": [
  {
   "cell_type": "code",
   "execution_count": 5,
   "metadata": {},
   "outputs": [],
   "source": [
    "import pandas as pd\n",
    "gpt = pd.read_csv('results/gpt_results.csv', sep=';')\n",
    "gemini = pd.read_csv('results/gemini_results.csv', sep=';')\n",
    "llama = pd.read_csv('results/llama_results.csv', sep=';')"
   ]
  },
  {
   "cell_type": "code",
   "execution_count": 6,
   "metadata": {},
   "outputs": [
    {
     "name": "stdout",
     "output_type": "stream",
     "text": [
      "-----------------\n",
      "US-Score: 0.6254268715308564\n",
      "UK-Score: 0.6115615130198566\n",
      "GroundTruth-Score: 0.34941035575019014\n"
     ]
    }
   ],
   "source": [
    "results_gpt = gpt[gpt['ukGT_usGT_score'] < 0.9]\n",
    "print(\"-----------------\")\n",
    "print(\"US-Score:\", results_gpt.us_score.mean())\n",
    "print(\"UK-Score:\", results_gpt.uk_score.mean())\n",
    "print(\"GroundTruth-Score:\", results_gpt.ukGT_usGT_score.mean())"
   ]
  },
  {
   "cell_type": "code",
   "execution_count": 7,
   "metadata": {},
   "outputs": [
    {
     "name": "stdout",
     "output_type": "stream",
     "text": [
      "-----------------\n",
      "US-Score: 0.4563814336089598\n",
      "UK-Score: 0.44073892007151505\n",
      "GroundTruth-Score: 0.34616160893521114\n"
     ]
    }
   ],
   "source": [
    "results_gemini = gemini[gemini['ukGT_usGT_score'] < 0.9]\n",
    "print(\"-----------------\")\n",
    "print(\"US-Score:\", results_gemini.us_score.mean())\n",
    "print(\"UK-Score:\", results_gemini.uk_score.mean())\n",
    "print(\"GroundTruth-Score:\", results_gemini.ukGT_usGT_score.mean())"
   ]
  },
  {
   "cell_type": "code",
   "execution_count": 8,
   "metadata": {},
   "outputs": [
    {
     "name": "stdout",
     "output_type": "stream",
     "text": [
      "-----------------\n",
      "US-Score: 0.4023617914722319\n",
      "UK-Score: 0.416093077200081\n",
      "GroundTruth-Score: 0.346170422971\n"
     ]
    }
   ],
   "source": [
    "results_llama = llama[llama['ukGT_usGT_score'] < 0.9]\n",
    "print(\"-----------------\")\n",
    "print(\"US-Score:\", results_llama.us_score.mean())\n",
    "print(\"UK-Score:\", results_llama.uk_score.mean())\n",
    "print(\"GroundTruth-Score:\", results_llama.ukGT_usGT_score.mean())"
   ]
  },
  {
   "cell_type": "code",
   "execution_count": null,
   "metadata": {},
   "outputs": [],
   "source": []
  }
 ],
 "metadata": {
  "kernelspec": {
   "display_name": "test",
   "language": "python",
   "name": "python3"
  },
  "language_info": {
   "codemirror_mode": {
    "name": "ipython",
    "version": 3
   },
   "file_extension": ".py",
   "mimetype": "text/x-python",
   "name": "python",
   "nbconvert_exporter": "python",
   "pygments_lexer": "ipython3",
   "version": "3.10.12"
  }
 },
 "nbformat": 4,
 "nbformat_minor": 2
}
