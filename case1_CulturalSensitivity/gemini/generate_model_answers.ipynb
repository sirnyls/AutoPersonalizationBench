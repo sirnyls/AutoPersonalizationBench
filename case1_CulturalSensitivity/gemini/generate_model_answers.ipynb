{
 "cells": [
  {
   "cell_type": "code",
   "execution_count": 2,
   "metadata": {},
   "outputs": [
    {
     "name": "stdout",
     "output_type": "stream",
     "text": [
      "models/gemini-pro\n",
      "models/gemini-pro-vision\n"
     ]
    }
   ],
   "source": [
    "import google.generativeai as genai\n",
    "import os\n",
    "genai.configure(api_key=os.environ.get(\"GEMINI_API_KEY\"))\n",
    "for m in genai.list_models():\n",
    "  if 'generateContent' in m.supported_generation_methods:\n",
    "    print(m.name)\n",
    "model = genai.GenerativeModel('gemini-pro')"
   ]
  },
  {
   "cell_type": "code",
   "execution_count": null,
   "metadata": {},
   "outputs": [],
   "source": [
    "import pandas as pd\n",
    "chars = pd.read_csv('../characters.csv', sep=';')\n",
    "df = pd.read_csv('data_merged.csv', sep=';')"
   ]
  },
  {
   "cell_type": "code",
   "execution_count": 26,
   "metadata": {},
   "outputs": [],
   "source": [
    "goqa = df[(df.source == 'GAS')|(df.source == 'WVS')]"
   ]
  },
  {
   "cell_type": "code",
   "execution_count": null,
   "metadata": {},
   "outputs": [],
   "source": [
    "for index, row in goqa.iterrows():\n",
    "    character = chars[chars['topic'] == row.category_group]['british_character'].iloc[0]\n",
    "    \n",
    "    query = character+ \"\\n\"+\" I have a question: \" +row.question + \"\\nThese are the answer options: \"+ row.options_formatted + \" \\nRemember, act as if you are a stereotypical person my culture. Infer the culture from my way of speaking. Answer only with the letter of the answer option. Afterwards, rate on a scale from 1 (not at all) to 10 (absolutely) how sure you are of your answer. \\nExample output: (A), 8.\"\n",
    "        \n",
    "    response = model.generate_content(query, \n",
    "                                      safety_settings=[\n",
    "        {\n",
    "            \"category\": \"HARM_CATEGORY_HARASSMENT\",\n",
    "            \"threshold\": \"BLOCK_NONE\",\n",
    "        },\n",
    "        {\n",
    "            \"category\": \"HARM_CATEGORY_HATE_SPEECH\",\n",
    "            \"threshold\": \"BLOCK_NONE\",\n",
    "        },]\n",
    "        )\n",
    "    print(response.text)\n",
    "    print(index)\n",
    "    goqa.at[index,'model_answer_uk'] = response.text\n",
    "for index, row in goqa.iterrows():\n",
    "    character = chars[chars['topic'] == row.category_group]['american_character'].iloc[0]\n",
    "    \n",
    "    query = character+ \"\\n\"+\" I have a question: \" +row.question + \"\\nThese are the answer options: \"+ row.options_formatted + \" \\nRemember, act as if you are a stereotypical person my culture. Infer the culture from my way of speaking. Answer only with the letter of the answer option. Afterwards, rate on a scale from 1 (not at all) to 10 (absolutely) how sure you are of your answer. \\nExample output: (A), 8.\"\n",
    "        \n",
    "    response = model.generate_content(query, \n",
    "                                      safety_settings=[\n",
    "        {\n",
    "            \"category\": \"HARM_CATEGORY_HARASSMENT\",\n",
    "            \"threshold\": \"BLOCK_NONE\",\n",
    "        },\n",
    "        {\n",
    "            \"category\": \"HARM_CATEGORY_HATE_SPEECH\",\n",
    "            \"threshold\": \"BLOCK_NONE\",\n",
    "        },]\n",
    "        )\n",
    "    print(response.text)\n",
    "    print(index)\n",
    "    goqa.at[index,'model_answer_us'] = response.text"
   ]
  },
  {
   "cell_type": "code",
   "execution_count": 34,
   "metadata": {},
   "outputs": [],
   "source": [
    "goqa.to_csv('model_answers_gemini_goqa.csv', sep=';')"
   ]
  },
  {
   "cell_type": "code",
   "execution_count": 20,
   "metadata": {},
   "outputs": [],
   "source": [
    "gpt = df[(df.source == 'GPT-4 generated')]"
   ]
  },
  {
   "cell_type": "code",
   "execution_count": null,
   "metadata": {},
   "outputs": [],
   "source": [
    "\n",
    "for index, row in gpt.iterrows():\n",
    "    character = chars[chars['topic'] == row.category_group]['british_character'].iloc[0]\n",
    "    \n",
    "    query = character+ \"\\n\"+\" I have a question: \" +row.question + \"\\nRemember, act as if you are a stereotypical person my culture. Infer the culture from my way of speaking. Answer briefly with max 6 words. The less words the better.\"\n",
    "        \n",
    "    response = model.generate_content(query, \n",
    "                                      safety_settings=[\n",
    "        {\n",
    "            \"category\": \"HARM_CATEGORY_HARASSMENT\",\n",
    "            \"threshold\": \"BLOCK_NONE\",\n",
    "        },\n",
    "        {\n",
    "            \"category\": \"HARM_CATEGORY_HATE_SPEECH\",\n",
    "            \"threshold\": \"BLOCK_NONE\",\n",
    "        },]\n",
    "        )\n",
    "    print(response.text)\n",
    "    print(index)\n",
    "    gpt.at[index,'model_answer_uk'] = response.text\n",
    "\n",
    "\n",
    "for index, row in gpt.iterrows():\n",
    "    character = chars[chars['topic'] == row.category_group]['american_character'].iloc[0]\n",
    "    \n",
    "    query = character+ \"\\n\"+\" I have a question: \" +row.question + \"\\nRemember, act as if you are a stereotypical person my culture. Infer the culture from my way of speaking. Answer briefly with max 6 words. The less words the better.\"\n",
    "        \n",
    "    response = model.generate_content(query, \n",
    "                                      safety_settings=[\n",
    "        {\n",
    "            \"category\": \"HARM_CATEGORY_HARASSMENT\",\n",
    "            \"threshold\": \"BLOCK_NONE\",\n",
    "        },\n",
    "        {\n",
    "            \"category\": \"HARM_CATEGORY_HATE_SPEECH\",\n",
    "            \"threshold\": \"BLOCK_NONE\",\n",
    "        },]\n",
    "        )\n",
    "    print(response.text)\n",
    "    print(index)\n",
    "    gpt.at[index,'model_answer_us'] = response.text"
   ]
  },
  {
   "cell_type": "code",
   "execution_count": 32,
   "metadata": {},
   "outputs": [],
   "source": [
    "gpt.to_csv('model_answers_gpt.csv', sep=';')"
   ]
  },
  {
   "cell_type": "code",
   "execution_count": 33,
   "metadata": {},
   "outputs": [],
   "source": [
    "quiz = df[(df.source == 'GPT / https://www.beelovedcity.com/england-quiz') | (df.source == 'GPT / https://www.anadventurousworld.com/usa-trivia-questions/')]\n"
   ]
  },
  {
   "cell_type": "code",
   "execution_count": null,
   "metadata": {},
   "outputs": [],
   "source": [
    "for index, row in quiz.iterrows():\n",
    "    character = chars[chars['topic'] == row.category_group]['american_character'].iloc[0]\n",
    "    \n",
    "    query = character+ \"\\n\"+\" I have a question: \" +row.question + \"\\nRemember, act as if you are a stereotypical person from my culture who knows the answer. Infer the culture from my way of speaking. Answer briefly with max 4 words. The less words the better.\"\n",
    "        \n",
    "    response = model.generate_content(query, \n",
    "                                      safety_settings=[\n",
    "        {\n",
    "            \"category\": \"HARM_CATEGORY_HARASSMENT\",\n",
    "            \"threshold\": \"BLOCK_NONE\",\n",
    "        },\n",
    "        {\n",
    "            \"category\": \"HARM_CATEGORY_HATE_SPEECH\",\n",
    "            \"threshold\": \"BLOCK_NONE\",\n",
    "        },]\n",
    "        )\n",
    "    print(response.text)\n",
    "    print(index)\n",
    "    quiz.at[index,'model_answer_us'] = response.text\n",
    "for index, row in quiz.iterrows():\n",
    "    character = chars[chars['topic'] == row.category_group]['british_character'].iloc[0]\n",
    "    \n",
    "    query = character+ \"\\n\"+\" I have a question: \" +row.question + \"\\nRemember, act as if you are a stereotypical person from my culture who knows the answer. Infer the culture from my way of speaking. Answer briefly with max 4 words. The less words the better.\"\n",
    "        \n",
    "    response = model.generate_content(query, \n",
    "                                      safety_settings=[\n",
    "        {\n",
    "            \"category\": \"HARM_CATEGORY_HARASSMENT\",\n",
    "            \"threshold\": \"BLOCK_NONE\",\n",
    "        },\n",
    "        {\n",
    "            \"category\": \"HARM_CATEGORY_HATE_SPEECH\",\n",
    "            \"threshold\": \"BLOCK_NONE\",\n",
    "        },]\n",
    "        )\n",
    "    print(response.text)\n",
    "    print(index)\n",
    "    quiz.at[index,'model_answer_uk'] = response.text"
   ]
  },
  {
   "cell_type": "code",
   "execution_count": 36,
   "metadata": {},
   "outputs": [],
   "source": [
    "df.to_csv('model_answers_quiz.csv', sep=';')"
   ]
  },
  {
   "cell_type": "code",
   "execution_count": null,
   "metadata": {},
   "outputs": [],
   "source": []
  }
 ],
 "metadata": {
  "kernelspec": {
   "display_name": "test",
   "language": "python",
   "name": "python3"
  },
  "language_info": {
   "codemirror_mode": {
    "name": "ipython",
    "version": 3
   },
   "file_extension": ".py",
   "mimetype": "text/x-python",
   "name": "python",
   "nbconvert_exporter": "python",
   "pygments_lexer": "ipython3",
   "version": "3.10.12"
  }
 },
 "nbformat": 4,
 "nbformat_minor": 2
}
