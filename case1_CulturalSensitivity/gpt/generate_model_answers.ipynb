{
 "cells": [
  {
   "cell_type": "code",
   "execution_count": 1,
   "metadata": {},
   "outputs": [],
   "source": [
    "from efficiency.nlp import Chatbot\n",
    "import os\n",
    "import openai\n",
    "import pandas as pd\n",
    "openai.api_key = os.environ[\"OPENAI_API_KEY\"]\n",
    "chat = Chatbot(system_prompt=\"Act like if you were a real person and answer the question accordingly.\", max_tokens=30, model_version='gpt-4-0314')\n",
    "df = pd.read_csv('../data/data_merged.csv', sep=';')"
   ]
  },
  {
   "cell_type": "code",
   "execution_count": null,
   "metadata": {},
   "outputs": [],
   "source": [
    "df = df[df.source == 'GPT-4 generated']\n",
    "chars = pd.read_csv('characters.csv', sep=';')\n",
    "for index, row in df.iterrows():\n",
    "    character = chars[chars['topic'] == row.category_group]['american_character'].iloc[0]\n",
    "    \n",
    "    query = character+ \"\\n\"+\" I have a question: \" +row.question + \"\\nRemember, act as if you are a stereotypical person my culture. Infer the culture from my way of speaking. Answer briefly with max 6 words. The less words the better.\"\n",
    "        \n",
    "    response = chat.ask(query)\n",
    "    print(response)\n",
    "    df.at[index,'model_answer_us'] = response"
   ]
  },
  {
   "cell_type": "code",
   "execution_count": null,
   "metadata": {},
   "outputs": [],
   "source": [
    "for index, row in df.iterrows():\n",
    "    character = chars[chars['topic'] == row.category_group]['british_character'].iloc[0]\n",
    "    \n",
    "    query = character+ \"\\n\"+\" I have a question: \" +row.question + \"\\nRemember, act as if you are a stereotypical person my culture. Infer the culture from my way of speaking. Answer briefly with max 6 words. The less words the better.\"\n",
    "        \n",
    "    response = chat.ask(query)\n",
    "    print(response)\n",
    "    df.at[index,'model_answer_uk'] = response"
   ]
  },
  {
   "cell_type": "code",
   "execution_count": null,
   "metadata": {},
   "outputs": [],
   "source": [
    "df.to_csv('model_answers_gpt.csv', sep=';')"
   ]
  },
  {
   "cell_type": "code",
   "execution_count": null,
   "metadata": {},
   "outputs": [],
   "source": [
    "df = pd.read_csv('../data/data_merged.csv', sep=';')\n",
    "df = df[(df.source == 'GAS')|(df.source == 'WVS')]"
   ]
  },
  {
   "cell_type": "code",
   "execution_count": null,
   "metadata": {},
   "outputs": [],
   "source": [
    "for index, row in df.iterrows():\n",
    "    character = chars[chars['topic'] == row.category_group]['british_character'].iloc[0]\n",
    "    \n",
    "    query = character+ \"\\n\"+\" I have a question: \" +row.question + \"\\nThese are the answer options: \"+ row.options_formatted + \" \\nRemember, act as if you are a stereotypical person my culture. Infer the culture from my way of speaking. Answer only with the letter of the answer option. Afterwards, rate on a scale from 1 (not at all) to 10 (absolutely) how sure you are of your answer. \\nExample output: (A), 8.\"\n",
    "        \n",
    "    response = chat.ask(query)\n",
    "    print(response)\n",
    "    df.at[index,'model_answer_uk'] = response"
   ]
  },
  {
   "cell_type": "code",
   "execution_count": null,
   "metadata": {},
   "outputs": [],
   "source": [
    "for index, row in df.iterrows():\n",
    "    character = chars[chars['topic'] == row.category_group]['american_character'].iloc[0]\n",
    "    \n",
    "    query = character+ \"\\n\"+\" I have a question: \" +row.question + \"\\nThese are the answer options: \"+ row.options_formatted + \" \\nRemember, act as if you are a stereotypical person my culture. Infer the culture from my way of speaking. Answer only with the letter of the answer option. Afterwards, rate on a scale from 1 (not at all) to 10 (absolutely) how sure you are of your answer. \\nExample output: (A), 8.\"\n",
    "        \n",
    "    response = chat.ask(query)\n",
    "    print(response)\n",
    "    df.at[index,'model_answer_us'] = response"
   ]
  },
  {
   "cell_type": "code",
   "execution_count": null,
   "metadata": {},
   "outputs": [],
   "source": [
    "df.to_csv('model_answers_goqa.csv', sep=';')"
   ]
  },
  {
   "cell_type": "code",
   "execution_count": null,
   "metadata": {},
   "outputs": [],
   "source": [
    "df = pd.read_csv('../data/data_merged.csv', sep=';')\n",
    "df = df[(df.source == 'GPT / https://www.beelovedcity.com/england-quiz') | (df.source == 'GPT / https://www.anadventurousworld.com/usa-trivia-questions/')]\n"
   ]
  },
  {
   "cell_type": "code",
   "execution_count": null,
   "metadata": {},
   "outputs": [],
   "source": [
    "for index, row in df.iterrows():\n",
    "    character = chars[chars['topic'] == row.category_group]['american_character'].iloc[0]\n",
    "    \n",
    "    query = character+ \"\\n\"+\" I have a question: \" +row.question + \"\\nRemember, act as if you are a stereotypical person from my culture who knows the answer. Infer the culture from my way of speaking. Answer briefly with max 4 words. The less words the better.\"\n",
    "        \n",
    "    response = chat.ask(query)\n",
    "    print(response)\n",
    "    df.at[index,'model_answer_us'] = response"
   ]
  },
  {
   "cell_type": "code",
   "execution_count": null,
   "metadata": {},
   "outputs": [],
   "source": [
    "for index, row in df.iterrows():\n",
    "    character = chars[chars['topic'] == row.category_group]['british_character'].iloc[0]\n",
    "    \n",
    "    query = character+ \"\\n\"+\" I have a question: \" +row.question + \"\\nRemember, act as if you are a stereotypical person from my culture who knows the answer. Infer the culture from my way of speaking. Answer briefly with max 4 words. The less words the better.\"\n",
    "        \n",
    "    response = chat.ask(query)\n",
    "    print(response)\n",
    "    df.at[index,'model_answer_uk'] = response"
   ]
  },
  {
   "cell_type": "code",
   "execution_count": null,
   "metadata": {},
   "outputs": [],
   "source": [
    "df.to_csv('model_answers_quiz.csv', sep=';')"
   ]
  }
 ],
 "metadata": {
  "kernelspec": {
   "display_name": "test",
   "language": "python",
   "name": "python3"
  },
  "language_info": {
   "codemirror_mode": {
    "name": "ipython",
    "version": 3
   },
   "file_extension": ".py",
   "mimetype": "text/x-python",
   "name": "python",
   "nbconvert_exporter": "python",
   "pygments_lexer": "ipython3",
   "version": "3.10.12"
  }
 },
 "nbformat": 4,
 "nbformat_minor": 2
}
