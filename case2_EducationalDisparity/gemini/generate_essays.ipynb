{
 "cells": [
  {
   "cell_type": "code",
   "execution_count": 7,
   "metadata": {},
   "outputs": [
    {
     "name": "stdout",
     "output_type": "stream",
     "text": [
      "models/gemini-pro\n",
      "models/gemini-pro-vision\n"
     ]
    }
   ],
   "source": [
    "import google.generativeai as genai\n",
    "import os\n",
    "genai.configure(api_key=os.environ.get(\"GEMINI_API_KEY\"))\n",
    "\n",
    "for m in genai.list_models():\n",
    "  if 'generateContent' in m.supported_generation_methods:\n",
    "    print(m.name)\n",
    "model = genai.GenerativeModel('gemini-pro')\n"
   ]
  },
  {
   "cell_type": "code",
   "execution_count": 2,
   "metadata": {},
   "outputs": [],
   "source": [
    "import pandas as pd\n",
    "essays = pd.read_csv('../essay_prompts_raw.csv', sep=';')"
   ]
  },
  {
   "cell_type": "code",
   "execution_count": null,
   "metadata": {},
   "outputs": [],
   "source": [
    "for index, row in essays.iterrows():    \n",
    "    instruction = \"Your task is to write an essay (about 300-350 words) in response to a question. The topic will be provided by the user. \\nTopic: \" + row.prompt_base\n",
    "    response = model.generate_content(instruction, \n",
    "                                      safety_settings=[\n",
    "        {\n",
    "            \"category\": \"HARM_CATEGORY_HARASSMENT\",\n",
    "            \"threshold\": \"BLOCK_NONE\",\n",
    "        },\n",
    "        {\n",
    "            \"category\": \"HARM_CATEGORY_HATE_SPEECH\",\n",
    "            \"threshold\": \"BLOCK_NONE\",\n",
    "        },]\n",
    "        )\n",
    "    print(response.text)\n",
    "    print(index)\n",
    "    essays.at[index,'essay_base'] = response.text"
   ]
  },
  {
   "cell_type": "code",
   "execution_count": null,
   "metadata": {},
   "outputs": [],
   "source": [
    "for index, row in essays.iterrows():\n",
    "    instruction = \"Your task is to write an essay (about 300-350 words) in response to a question. The topic will be provided by the user. \\nTopic: \" + row.prompt_AAE        \n",
    "    response = model.generate_content(instruction, \n",
    "                                      safety_settings=[\n",
    "        {\n",
    "            \"category\": \"HARM_CATEGORY_HARASSMENT\",\n",
    "            \"threshold\": \"BLOCK_NONE\",\n",
    "        },\n",
    "        {\n",
    "            \"category\": \"HARM_CATEGORY_HATE_SPEECH\",\n",
    "            \"threshold\": \"BLOCK_NONE\",\n",
    "        },]\n",
    "        )\n",
    "    print(response.text)\n",
    "    print(index)\n",
    "    essays.at[index,'essay_AAE'] = response.text"
   ]
  },
  {
   "cell_type": "code",
   "execution_count": null,
   "metadata": {},
   "outputs": [],
   "source": [
    "for index, row in essays.iterrows():\n",
    "    instruction = \"Your task is to write an essay (about 300-350 words) in response to a question. The topic will be provided by the user. \\nTopic: \" + row.prompt_ESL\n",
    "    response = model.generate_content(instruction, \n",
    "                                      safety_settings=[\n",
    "        {\n",
    "            \"category\": \"HARM_CATEGORY_HARASSMENT\",\n",
    "            \"threshold\": \"BLOCK_NONE\",\n",
    "        },\n",
    "        {\n",
    "            \"category\": \"HARM_CATEGORY_HATE_SPEECH\",\n",
    "            \"threshold\": \"BLOCK_NONE\",\n",
    "        },]\n",
    "        )\n",
    "    print(response.text)\n",
    "    print(index)\n",
    "    essays.at[index,'essay_ESL'] = response.text"
   ]
  },
  {
   "cell_type": "code",
   "execution_count": 12,
   "metadata": {},
   "outputs": [],
   "source": [
    "essays.to_csv('../all_essays_gemini.csv', sep=';')"
   ]
  }
 ],
 "metadata": {
  "kernelspec": {
   "display_name": "test",
   "language": "python",
   "name": "python3"
  },
  "language_info": {
   "codemirror_mode": {
    "name": "ipython",
    "version": 3
   },
   "file_extension": ".py",
   "mimetype": "text/x-python",
   "name": "python",
   "nbconvert_exporter": "python",
   "pygments_lexer": "ipython3",
   "version": "3.10.12"
  }
 },
 "nbformat": 4,
 "nbformat_minor": 2
}
