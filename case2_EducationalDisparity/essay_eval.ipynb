{
 "cells": [
  {
   "cell_type": "code",
   "execution_count": 118,
   "metadata": {},
   "outputs": [
    {
     "name": "stderr",
     "output_type": "stream",
     "text": [
      "[nltk_data] Downloading package punkt to /Users/nils/nltk_data...\n",
      "[nltk_data]   Package punkt is already up-to-date!\n",
      "[nltk_data] Downloading package averaged_perceptron_tagger to\n",
      "[nltk_data]     /Users/nils/nltk_data...\n",
      "[nltk_data]   Package averaged_perceptron_tagger is already up-to-\n",
      "[nltk_data]       date!\n",
      "[nltk_data] Downloading package stopwords to /Users/nils/nltk_data...\n",
      "[nltk_data]   Package stopwords is already up-to-date!\n"
     ]
    }
   ],
   "source": [
    "import textstat\n",
    "import nltk\n",
    "from nltk.tokenize import sent_tokenize, word_tokenize\n",
    "from nltk.probability import FreqDist\n",
    "from nltk.corpus import stopwords\n",
    "import language_tool_python\n",
    "import statistics\n",
    "import logging\n",
    "\n",
    "# Setup basic logging (you can configure it as needed)\n",
    "logging.basicConfig(level=logging.INFO, format='%(asctime)s - %(levelname)s - %(message)s')\n",
    "\n",
    "# Download necessary NLTK data\n",
    "nltk.download('punkt')\n",
    "nltk.download('averaged_perceptron_tagger')\n",
    "nltk.download('stopwords')\n",
    "\n",
    "def analyze_essay(essay):\n",
    "    \"\"\"\n",
    "    Analyze various aspects of an essay for linguistic sophistication.\n",
    "\n",
    "    :param essay: A string containing the essay text.\n",
    "    :return: A dictionary with various metrics and an overall quality score.\n",
    "    \"\"\"\n",
    "    \n",
    "    tool = language_tool_python.LanguageToolPublicAPI('en-US')\n",
    "\n",
    "    # Readability and complexity metrics\n",
    "    flesch_reading_ease = textstat.flesch_reading_ease(essay)\n",
    "    smog_index = textstat.smog_index(essay)\n",
    "    flesch_kincaid_grade = textstat.flesch_kincaid_grade(essay)\n",
    "\n",
    "    # Tokenize essay into words and sentences\n",
    "    words = word_tokenize(essay)\n",
    "    sentences = sent_tokenize(essay)\n",
    "    unique_words = len(set(words))\n",
    "\n",
    "    # Lexical diversity\n",
    "    lexical_diversity = len(set(words)) / len(words) if words else 0\n",
    "\n",
    "    # Sentence length variability\n",
    "    sentence_lengths = [len(word_tokenize(sentence)) for sentence in sentences]\n",
    "    sentence_length_variability = statistics.stdev(sentence_lengths) if len(sentence_lengths) > 1 else 0\n",
    "\n",
    "    # Grammatical mistakes\n",
    "    matches = tool.check(essay)\n",
    "    grammar_errors = len(matches) \n",
    "\n",
    "    return   {\n",
    "        \"flesch_reading_ease\": flesch_reading_ease,\n",
    "        \"smog_index\": smog_index,\n",
    "        \"flesch_kincaid_grade\": flesch_kincaid_grade,\n",
    "        \"unique_words\": unique_words,\n",
    "        \"lexical_diversity\": lexical_diversity,\n",
    "        \"grammar_errors\": grammar_errors,\n",
    "    }\n",
    "    pass\n"
   ]
  },
  {
   "cell_type": "code",
   "execution_count": 92,
   "metadata": {},
   "outputs": [],
   "source": [
    "import pandas as pd \n",
    "gpt = pd.read_csv('all_essays_gpt.csv', sep=';')\n",
    "gemini = pd.read_csv('all_essays_gemini.csv', sep=';')\n",
    "llama = pd.read_csv('all_essays_llama.csv', sep=';')"
   ]
  },
  {
   "cell_type": "code",
   "execution_count": null,
   "metadata": {},
   "outputs": [],
   "source": [
    "gpt['essay_ESL'] = gpt['essay_ESL'].astype(str)\n",
    "gpt['metrics_ESL'] = gpt['essay_ESL'].apply(analyze_essay)\n",
    "gpt['metrics_AAE'] = gpt['essay_from_AAE_prompt'].apply(analyze_essay)"
   ]
  },
  {
   "cell_type": "code",
   "execution_count": 115,
   "metadata": {},
   "outputs": [],
   "source": [
    "llama['metrics_SAE'] = llama['essay_base'].apply(analyze_essay)\n",
    "llama['metrics_ESL'] = llama['essay_ESL'].apply(analyze_essay)\n",
    "llama['metrics_AAE'] = llama['essay_from_AAE_prompt'].apply(analyze_essay)"
   ]
  },
  {
   "cell_type": "code",
   "execution_count": null,
   "metadata": {},
   "outputs": [],
   "source": [
    "if 'metrics_SAE' not in gemini.columns:\n",
    "    gemini['metrics_SAE'] = [{} for _ in range(len(gemini))]\n",
    "\n",
    "\n",
    "# Loop through each essay\n",
    "for index, row in gemini.iterrows():\n",
    "    # Check if the analysis has not been done for this row\n",
    "    if not row['metrics_SAE']:\n",
    "        try:\n",
    "            # Analyze the essay\n",
    "            essay_metrics = analyze_essay(row['essay_base'])\n",
    "            # Save the analysis result to the 'metrics_ESL' column\n",
    "            gemini.at[index, 'metrics_SAE'] = essay_metrics\n",
    "        except Exception as e:\n",
    "            # Log or print the error and continue\n",
    "            print(f\"Error processing essay at index {index}: {e}\")"
   ]
  },
  {
   "cell_type": "code",
   "execution_count": null,
   "metadata": {},
   "outputs": [],
   "source": [
    "if 'metrics_AAE' not in gemini.columns:\n",
    "    gemini['metrics_AAE'] = [{} for _ in range(len(gemini))]\n",
    "\n",
    "\n",
    "# Loop through each essay\n",
    "for index, row in gemini.iterrows():\n",
    "    # Check if the analysis has not been done for this row\n",
    "    if not row['metrics_AAE']:\n",
    "        try:\n",
    "            # Analyze the essay\n",
    "            essay_metrics = analyze_essay(row['essay_from_AAE_prompt'])\n",
    "            # Save the analysis result to the 'metrics_ESL' column\n",
    "            gemini.at[index, 'metrics_AAE'] = essay_metrics\n",
    "        except Exception as e:\n",
    "            # Log or print the error and continue\n",
    "            print(f\"Error processing essay at index {index}: {e}\")\n"
   ]
  },
  {
   "cell_type": "code",
   "execution_count": null,
   "metadata": {},
   "outputs": [],
   "source": [
    "gemini['metrics_ESL'] = gemini['essay_ESL'].apply(analyze_essay)"
   ]
  },
  {
   "cell_type": "code",
   "execution_count": null,
   "metadata": {},
   "outputs": [],
   "source": [
    "import matplotlib.pyplot as plt\n",
    "import seaborn as sns\n",
    "import numpy as np\n",
    "import pandas as pd \n",
    "\n",
    "# Convert dictionaries to DataFrame\n",
    "df_SAE = pd.DataFrame(list(gemini['metrics_SAE']))\n",
    "df_ESL = pd.DataFrame(list(gemini['metrics_ESL']))\n",
    "df_AAE = pd.DataFrame(list(gemini['metrics_AAE']))\n",
    "\n",
    "# Calculate means\n",
    "means_SAE = df_SAE.mean()\n",
    "means_ESL = df_ESL.mean()\n",
    "means_AAE = df_AAE.mean()\n",
    "\n",
    "gemini_results = pd.concat([means_SAE, means_ESL, means_AAE], axis=1, keys=['SAE', 'ESL', 'AAE'])\n",
    "gemini_results.to_csv('results/results_gemini.csv')"
   ]
  },
  {
   "cell_type": "code",
   "execution_count": null,
   "metadata": {},
   "outputs": [],
   "source": [
    "import matplotlib.pyplot as plt\n",
    "import seaborn as sns\n",
    "import numpy as np\n",
    "import pandas as pd \n",
    "\n",
    "# Convert dictionaries to DataFrame\n",
    "df_SAE = pd.DataFrame(list(gpt['metrics_SAE']))\n",
    "df_ESL = pd.DataFrame(list(gpt['metrics_ESL']))\n",
    "df_AAE = pd.DataFrame(list(gpt['metrics_AAE']))\n",
    "\n",
    "# Calculate means\n",
    "means_SAE = df_SAE.mean()\n",
    "means_ESL = df_ESL.mean()\n",
    "means_AAE = df_AAE.mean()\n",
    "\n",
    "gpt_results= pd.concat([means_SAE, means_ESL, means_AAE], axis=1, keys=['SAE', 'ESL', 'AAE'])\n",
    "gpt_results.to_csv('results/results_gpt.csv')\n"
   ]
  },
  {
   "cell_type": "code",
   "execution_count": null,
   "metadata": {},
   "outputs": [],
   "source": [
    "import matplotlib.pyplot as plt\n",
    "import seaborn as sns\n",
    "import numpy as np\n",
    "import pandas as pd \n",
    "\n",
    "# Convert dictionaries to DataFrame\n",
    "df_SAE = pd.DataFrame(list(llama['metrics_SAE']))\n",
    "df_ESL = pd.DataFrame(list(llama['metrics_ESL']))\n",
    "df_AAE = pd.DataFrame(list(llama['metrics_AAE']))\n",
    "\n",
    "# Calculate means\n",
    "means_SAE = df_SAE.mean()\n",
    "means_ESL = df_ESL.mean()\n",
    "means_AAE = df_AAE.mean()\n",
    "\n",
    "llama_results = pd.concat([means_SAE, means_ESL, means_AAE], axis=1, keys=['SAE', 'ESL', 'AAE'])\n",
    "llama_results.to_csv('results/results_llama.csv')"
   ]
  }
 ],
 "metadata": {
  "kernelspec": {
   "display_name": "test",
   "language": "python",
   "name": "python3"
  },
  "language_info": {
   "codemirror_mode": {
    "name": "ipython",
    "version": 3
   },
   "file_extension": ".py",
   "mimetype": "text/x-python",
   "name": "python",
   "nbconvert_exporter": "python",
   "pygments_lexer": "ipython3",
   "version": "3.10.12"
  }
 },
 "nbformat": 4,
 "nbformat_minor": 2
}
