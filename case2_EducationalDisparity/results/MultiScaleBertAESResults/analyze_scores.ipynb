{
 "cells": [
  {
   "cell_type": "code",
   "execution_count": 3,
   "metadata": {},
   "outputs": [
    {
     "name": "stdout",
     "output_type": "stream",
     "text": [
      "40.92635658914729\n",
      "41.02316602316602\n",
      "41.24324324324324\n"
     ]
    }
   ],
   "source": [
    "import pandas as pd\n",
    "base = pd.read_csv(\"gemini_base_results.txt\", sep=\"\t\", header=None)\n",
    "ESL = pd.read_csv(\"gemini_ESL_results.txt\", sep=\"\t\", header=None)\n",
    "AAE = pd.read_csv(\"gemini_AAE_results.txt\", sep=\"\t\", header=None)\n",
    "print(base[1].mean())\n",
    "print(ESL[1].mean())\n",
    "print(AAE[1].mean())"
   ]
  },
  {
   "cell_type": "code",
   "execution_count": 4,
   "metadata": {},
   "outputs": [
    {
     "name": "stdout",
     "output_type": "stream",
     "text": [
      "41.16795366795367\n",
      "42.38803088803089\n",
      "41.56563706563706\n"
     ]
    }
   ],
   "source": [
    "base = pd.read_csv(\"gpt_base_results.txt\", sep=\"\t\", header=None)\n",
    "ESL = pd.read_csv(\"gpt_ESL_results.txt\", sep=\"\t\", header=None)\n",
    "AAE = pd.read_csv(\"gpt_AAE_results.txt\", sep=\"\t\", header=None)\n",
    "print(base[1].mean())\n",
    "print(ESL[1].mean())\n",
    "print(AAE[1].mean())\n",
    "\n"
   ]
  },
  {
   "cell_type": "code",
   "execution_count": 5,
   "metadata": {},
   "outputs": [
    {
     "name": "stdout",
     "output_type": "stream",
     "text": [
      "40.16023166023166\n",
      "40.20849420849421\n",
      "40.183397683397686\n"
     ]
    }
   ],
   "source": [
    "base = pd.read_csv(\"llama_base_results.txt\", sep=\"\t\", header=None)\n",
    "ESL = pd.read_csv(\"llama_ESL_results.txt\", sep=\"\t\", header=None)\n",
    "AAE = pd.read_csv(\"llama_AAE_results.txt\", sep=\"\t\", header=None)\n",
    "print(base[1].mean())\n",
    "print(ESL[1].mean())\n",
    "print(AAE[1].mean())"
   ]
  }
 ],
 "metadata": {
  "kernelspec": {
   "display_name": "test",
   "language": "python",
   "name": "python3"
  },
  "language_info": {
   "codemirror_mode": {
    "name": "ipython",
    "version": 3
   },
   "file_extension": ".py",
   "mimetype": "text/x-python",
   "name": "python",
   "nbconvert_exporter": "python",
   "pygments_lexer": "ipython3",
   "version": "3.10.12"
  }
 },
 "nbformat": 4,
 "nbformat_minor": 2
}
