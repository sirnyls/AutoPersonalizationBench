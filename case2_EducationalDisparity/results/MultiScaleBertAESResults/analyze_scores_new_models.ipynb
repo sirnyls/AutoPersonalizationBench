{
 "cells": [
  {
   "cell_type": "code",
   "execution_count": 1,
   "metadata": {},
   "outputs": [
    {
     "name": "stdout",
     "output_type": "stream",
     "text": [
      "31.453667953667953\n",
      "32.7027027027027\n",
      "31.944015444015445\n"
     ]
    }
   ],
   "source": [
    "import pandas as pd\n",
    "base = pd.read_csv(\"alpaca_base_results.txt\", sep=\"\t\", header=None)\n",
    "ESL = pd.read_csv(\"alpaca_ESL_results.txt\", sep=\"\t\", header=None)\n",
    "AAE = pd.read_csv(\"alpaca_AAE_results.txt\", sep=\"\t\", header=None)\n",
    "print(base[1].mean())\n",
    "print(ESL[1].mean())\n",
    "print(AAE[1].mean())"
   ]
  },
  {
   "cell_type": "code",
   "execution_count": 2,
   "metadata": {},
   "outputs": [
    {
     "name": "stdout",
     "output_type": "stream",
     "text": [
      "40.156370656370655\n",
      "40.2007722007722\n",
      "40.21621621621622\n"
     ]
    }
   ],
   "source": [
    "import pandas as pd\n",
    "base = pd.read_csv(\"llama7B_base_results.txt\", sep=\"\t\", header=None)\n",
    "ESL = pd.read_csv(\"llama7B_ESL_results.txt\", sep=\"\t\", header=None)\n",
    "AAE = pd.read_csv(\"llama7B_AAE_results.txt\", sep=\"\t\", header=None)\n",
    "print(base[1].mean())\n",
    "print(ESL[1].mean())\n",
    "print(AAE[1].mean())"
   ]
  },
  {
   "cell_type": "code",
   "execution_count": 3,
   "metadata": {},
   "outputs": [
    {
     "name": "stdout",
     "output_type": "stream",
     "text": [
      "40.16023166023166\n",
      "40.204633204633204\n",
      "40.2027027027027\n"
     ]
    }
   ],
   "source": [
    "import pandas as pd\n",
    "base = pd.read_csv(\"llama13B_base_results.txt\", sep=\"\t\", header=None)\n",
    "ESL = pd.read_csv(\"llama13B_ESL_results.txt\", sep=\"\t\", header=None)\n",
    "AAE = pd.read_csv(\"llama13B_AAE_results.txt\", sep=\"\t\", header=None)\n",
    "print(base[1].mean())\n",
    "print(ESL[1].mean())\n",
    "print(AAE[1].mean())"
   ]
  },
  {
   "cell_type": "code",
   "execution_count": 5,
   "metadata": {},
   "outputs": [
    {
     "name": "stdout",
     "output_type": "stream",
     "text": [
      "37.99227799227799\n",
      "37.88803088803089\n",
      "37.62741312741313\n"
     ]
    }
   ],
   "source": [
    "import pandas as pd\n",
    "base = pd.read_csv(\"vicuna13B_base_results.txt\", sep=\"\t\", header=None)\n",
    "ESL = pd.read_csv(\"vicuna13B_ESL_results.txt\", sep=\"\t\", header=None)\n",
    "AAE = pd.read_csv(\"vicuna13B_AAE_results.txt\", sep=\"\t\", header=None)\n",
    "print(base[1].mean())\n",
    "print(ESL[1].mean())\n",
    "print(AAE[1].mean())"
   ]
  },
  {
   "cell_type": "markdown",
   "metadata": {},
   "source": []
  },
  {
   "cell_type": "code",
   "execution_count": 4,
   "metadata": {},
   "outputs": [
    {
     "name": "stdout",
     "output_type": "stream",
     "text": [
      "37.803088803088805\n",
      "37.26833976833977\n",
      "36.80694980694981\n"
     ]
    }
   ],
   "source": [
    "import pandas as pd\n",
    "base = pd.read_csv(\"vicuna7B_base_results.txt\", sep=\"\t\", header=None)\n",
    "ESL = pd.read_csv(\"vicuna7B_ESL_results.txt\", sep=\"\t\", header=None)\n",
    "AAE = pd.read_csv(\"vicuna7B_AAE_results.txt\", sep=\"\t\", header=None)\n",
    "print(base[1].mean())\n",
    "print(ESL[1].mean())\n",
    "print(AAE[1].mean())"
   ]
  },
  {
   "cell_type": "code",
   "execution_count": 3,
   "metadata": {},
   "outputs": [
    {
     "name": "stdout",
     "output_type": "stream",
     "text": [
      "40.92635658914729\n",
      "41.02316602316602\n",
      "41.24324324324324\n"
     ]
    }
   ],
   "source": [
    "import pandas as pd\n",
    "base = pd.read_csv(\"gemini_base_results.txt\", sep=\"\t\", header=None)\n",
    "ESL = pd.read_csv(\"gemini_ESL_results.txt\", sep=\"\t\", header=None)\n",
    "AAE = pd.read_csv(\"gemini_AAE_results.txt\", sep=\"\t\", header=None)\n",
    "print(base[1].mean())\n",
    "print(ESL[1].mean())\n",
    "print(AAE[1].mean())"
   ]
  },
  {
   "cell_type": "code",
   "execution_count": 4,
   "metadata": {},
   "outputs": [
    {
     "name": "stdout",
     "output_type": "stream",
     "text": [
      "41.16795366795367\n",
      "42.38803088803089\n",
      "41.56563706563706\n"
     ]
    }
   ],
   "source": [
    "base = pd.read_csv(\"gpt_base_results.txt\", sep=\"\t\", header=None)\n",
    "ESL = pd.read_csv(\"gpt_ESL_results.txt\", sep=\"\t\", header=None)\n",
    "AAE = pd.read_csv(\"gpt_AAE_results.txt\", sep=\"\t\", header=None)\n",
    "print(base[1].mean())\n",
    "print(ESL[1].mean())\n",
    "print(AAE[1].mean())\n",
    "\n"
   ]
  },
  {
   "cell_type": "code",
   "execution_count": 5,
   "metadata": {},
   "outputs": [
    {
     "name": "stdout",
     "output_type": "stream",
     "text": [
      "40.16023166023166\n",
      "40.20849420849421\n",
      "40.183397683397686\n"
     ]
    }
   ],
   "source": [
    "base = pd.read_csv(\"llama_base_results.txt\", sep=\"\t\", header=None)\n",
    "ESL = pd.read_csv(\"llama_ESL_results.txt\", sep=\"\t\", header=None)\n",
    "AAE = pd.read_csv(\"llama_AAE_results.txt\", sep=\"\t\", header=None)\n",
    "print(base[1].mean())\n",
    "print(ESL[1].mean())\n",
    "print(AAE[1].mean())"
   ]
  },
  {
   "cell_type": "code",
   "execution_count": 1,
   "metadata": {},
   "outputs": [],
   "source": [
    "import pandas as pd\n",
    "AAE = pd.read_csv(\"scores_AAE_GRE.txt\", sep=\"\t\", header=None)\n",
    "base = pd.read_csv(\"scores_base_GRE.txt\", sep=\"\t\", header=None)\n",
    "error = pd.read_csv(\"scores_error_GRE.txt\", sep=\"\t\", header=None)\n",
    "error_v2 = pd.read_csv(\"scores_error_v2_GRE.txt\", sep=\"\t\", header=None)"
   ]
  },
  {
   "cell_type": "code",
   "execution_count": 2,
   "metadata": {},
   "outputs": [
    {
     "name": "stdout",
     "output_type": "stream",
     "text": [
      "41.946745562130175\n",
      "42.36390532544379\n",
      "41.84023668639053\n",
      "41.92603550295858\n"
     ]
    }
   ],
   "source": [
    "print(base[1].mean())\n",
    "print(AAE[1].mean())\n",
    "print(error[1].mean())\n",
    "print(error_v2[1].mean())\n"
   ]
  },
  {
   "cell_type": "code",
   "execution_count": 1,
   "metadata": {},
   "outputs": [],
   "source": [
    "import pandas as pd \n",
    "\n",
    "AAE = pd.read_csv(\"Gemini/scores/scores_AAE_gemini.txt\", sep=\"\t\", header=None)\n",
    "base = pd.read_csv(\"Gemini/scores/scores_basse_essays_gemini.txt\", sep=\"\t\", header=None)\n",
    "error = pd.read_csv(\"Gemini/scores/scores_error_gemini.txt\", sep=\"\t\", header=None)\n",
    "error_v2 = pd.read_csv(\"Gemini/scores/scores_error_v2.txt\", sep=\"\t\", header=None)"
   ]
  },
  {
   "cell_type": "code",
   "execution_count": 2,
   "metadata": {},
   "outputs": [
    {
     "name": "stdout",
     "output_type": "stream",
     "text": [
      "40.63905325443787\n",
      "41.25739644970414\n",
      "40.63905325443787\n",
      "40.46449704142012\n"
     ]
    }
   ],
   "source": [
    "print(base[1].mean())\n",
    "print(error[1].mean())\n",
    "print(AAE[1].mean())\n",
    "print(error_v2[1].mean())\n"
   ]
  },
  {
   "cell_type": "code",
   "execution_count": 1,
   "metadata": {},
   "outputs": [],
   "source": [
    "import pandas as pd \n",
    "\n",
    "AAE = pd.read_csv(\"llama2/TOEFL/scores/scores_AAE_llama_toefl.txt\", sep=\"\t\", header=None)\n",
    "base = pd.read_csv(\"llama2/TOEFL/scores/scores_base_llama_toefl.txt\", sep=\"\t\", header=None)\n",
    "error = pd.read_csv(\"llama2/TOEFL/scores/scores_errors_llama_toefl.txt\", sep=\"\t\", header=None)\n",
    "error_v2 = pd.read_csv(\"llama2/TOEFL/scores/scores_errorv2_llama_toefl.txt\", sep=\"\t\", header=None)"
   ]
  },
  {
   "cell_type": "code",
   "execution_count": 2,
   "metadata": {},
   "outputs": [
    {
     "name": "stdout",
     "output_type": "stream",
     "text": [
      "40.43333333333333\n",
      "40.08888888888889\n",
      "40.56111111111111\n",
      "38.99444444444445\n"
     ]
    }
   ],
   "source": [
    "print(base[1].mean())\n",
    "print(error[1].mean())\n",
    "print(AAE[1].mean())\n",
    "print(error_v2[1].mean())"
   ]
  },
  {
   "cell_type": "code",
   "execution_count": null,
   "metadata": {},
   "outputs": [],
   "source": []
  }
 ],
 "metadata": {
  "kernelspec": {
   "display_name": "test",
   "language": "python",
   "name": "python3"
  },
  "language_info": {
   "codemirror_mode": {
    "name": "ipython",
    "version": 3
   },
   "file_extension": ".py",
   "mimetype": "text/x-python",
   "name": "python",
   "nbconvert_exporter": "python",
   "pygments_lexer": "ipython3",
   "version": "3.10.12"
  }
 },
 "nbformat": 4,
 "nbformat_minor": 2
}
