{
 "cells": [
  {
   "cell_type": "code",
   "execution_count": null,
   "metadata": {},
   "outputs": [],
   "source": [
    "#### Infuse grammar errors to prompt \n",
    "\n",
    "import openai\n",
    "import os\n",
    "import pandas as pd\n",
    "from openai import OpenAI\n",
    "\n",
    "client = OpenAI(\n",
    "    api_key=os.environ.get(\"OPENAI_API_KEY\"),\n",
    ")\n",
    "\n",
    "def turn_into_ESL(essay_prompt_raw, model=\"gpt-4-1106-preview\"):\n",
    "    instruction = \"Your task is to infuse 2-3 of the 10 most common English as a second language (ESL) errors.\"\n",
    "    prompt = \"Infuse 2-3 of the 10 most common English as a second language (ESL) errors students typically make into the following. \\n Input: \" + essay_prompt_raw + \"\\nOutput: [Same input text, but with errors]\"\n",
    "    response = client.chat.completions.create(\n",
    "    model=model,\n",
    "    messages=[\n",
    "        {\n",
    "        \"role\": \"system\",\n",
    "        \"content\": instruction\n",
    "        },\n",
    "        {\n",
    "        \"role\": \"user\",\n",
    "        \"content\":  prompt\n",
    "        }\n",
    "    ],\n",
    "    max_tokens=500,\n",
    "    temperature=1\n",
    "    )\n",
    "    #print(response.choices[0].message.content)\n",
    "    # Extracting the similarity score from the response\n",
    "    result = response.choices[0].message.content\n",
    "    print(result)\n",
    "    return result\n"
   ]
  },
  {
   "cell_type": "code",
   "execution_count": null,
   "metadata": {},
   "outputs": [],
   "source": [
    "#### Turn prompts to American English \n",
    "\n",
    "# For the TOEFL prompts I created an AAE Translator GPT\n",
    "# https://chat.openai.com/share/b56371e3-3a93-4d34-b4a0-1527f40027cd\n",
    "\n",
    "#### Infuse errors version 2 \n",
    " \n",
    "import openai\n",
    "import os\n",
    "import pandas as pd\n",
    "from openai import OpenAI\n",
    "\n",
    "client = OpenAI(\n",
    "    api_key=os.environ.get(\"OPENAI_API_KEY\"),\n",
    ")\n",
    "\n",
    "def turn_into_AAE(prompt_base, model=\"gpt-4-1106-preview\"):\n",
    "    prompt = \"Please translate the following prompt into African-American English. \\nInput:\" + prompt_base + \"Output: \"\n",
    "    response = client.chat.completions.create(\n",
    "    model=model,\n",
    "    messages=[\n",
    "        {\n",
    "        \"role\": \"user\",\n",
    "        \"content\":  prompt\n",
    "        }\n",
    "    ],\n",
    "    max_tokens=500,\n",
    "    temperature=1\n",
    "    )\n",
    "    result = response.choices[0].message.content\n",
    "    print(result)\n",
    "    return result"
   ]
  },
  {
   "cell_type": "code",
   "execution_count": null,
   "metadata": {},
   "outputs": [],
   "source": [
    "df = pd.read_csv('essay_prompts_raw.csv', sep = ';')\n",
    "def apply_turn_into_ESL(row):\n",
    "    try:\n",
    "        return turn_into_ESL(row['prompt_base'])\n",
    "    except Exception as e:\n",
    "        print(f\"Error processing row: {e}\")\n",
    "        return None\n",
    "df['prompt_ESL'] = df.apply(apply_turn_into_ESL, axis=1)"
   ]
  },
  {
   "cell_type": "code",
   "execution_count": null,
   "metadata": {},
   "outputs": [],
   "source": [
    "def apply_turn_into_AAE(row):\n",
    "    try:\n",
    "        return turn_into_AAE(row['prompt_base'])\n",
    "    except Exception as e:\n",
    "        print(f\"Error processing row: {e}\")\n",
    "        return None\n",
    "df['prompt_AAE'] = df.apply(apply_turn_into_AAE, axis=1)"
   ]
  },
  {
   "cell_type": "code",
   "execution_count": null,
   "metadata": {},
   "outputs": [],
   "source": [
    "df.to_csv('../essay_prompts_raw.csv', sep=';')"
   ]
  }
 ],
 "metadata": {
  "language_info": {
   "name": "python"
  }
 },
 "nbformat": 4,
 "nbformat_minor": 2
}
