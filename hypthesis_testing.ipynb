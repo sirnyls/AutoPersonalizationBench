{
 "cells": [
  {
   "cell_type": "code",
   "execution_count": 35,
   "metadata": {},
   "outputs": [],
   "source": [
    "import pandas as pd\n",
    "import numpy as np\n",
    "from scipy import stats\n",
    "import os \n",
    "\n",
    "def perform_ks_tests_and_save(model_name, sae_path, esl_path, aae_path, output_csv_path):\n",
    "    # Load data from text files\n",
    "    SAE = pd.read_csv(sae_path, sep=\"\t\", header=None)\n",
    "    ESL = pd.read_csv(esl_path, sep=\"\t\", header=None)\n",
    "    AAE = pd.read_csv(aae_path, sep=\"\t\", header=None)\n",
    "    \n",
    "    # Convert dataframes to numpy arrays\n",
    "    sample_sae = SAE[1].to_numpy()\n",
    "    sample_esl = ESL[1].to_numpy()\n",
    "    sample_aae = AAE[1].to_numpy()\n",
    "    \n",
    "    # Perform KS tests\n",
    "    result_sae_esl = stats.ks_2samp(sample_sae, sample_esl)\n",
    "    result_sae_aae = stats.ks_2samp(sample_sae, sample_aae)\n",
    "    \n",
    "    # Prepare data for CSV\n",
    "    data = [\n",
    "        [model_name, \"AES_Score\", \"SAE-ESL\", result_sae_esl.statistic, result_sae_esl.pvalue],\n",
    "        [model_name, \"AES_Score\", \"SAE-AAE\", result_sae_aae.statistic, result_sae_aae.pvalue]\n",
    "    ]\n",
    "    \n",
    "    # Create DataFrame\n",
    "    df = pd.DataFrame(data, columns=[\"Model\", \"Metric\", \"Pair\", \"Statistic\", \"P-Value\"])\n",
    "    \n",
    "    # Check if the CSV file already exists to decide on adding a header\n",
    "    file_exists = os.path.isfile(output_csv_path)\n",
    "    \n",
    "    # Save to CSV, append if file exists, include header if file does not exist\n",
    "    df.to_csv(output_csv_path, mode='a', index=False, header=not file_exists)\n",
    "    \n",
    "    print(f\"Results saved to {output_csv_path}\")\n"
   ]
  },
  {
   "cell_type": "code",
   "execution_count": 44,
   "metadata": {},
   "outputs": [
    {
     "name": "stdout",
     "output_type": "stream",
     "text": [
      "Results saved to ks_test_results.csv\n"
     ]
    }
   ],
   "source": [
    "perform_ks_tests_and_save(\n",
    "    \"Alpaca\",\n",
    "    \"case2_EducationalDisparity/results/MultiScaleBertAESResults/alpaca_base_results.txt\",\n",
    "    \"case2_EducationalDisparity/results/MultiScaleBertAESResults/alpaca_ESL_results.txt\",\n",
    "    \"case2_EducationalDisparity/results/MultiScaleBertAESResults/alpaca_AAE_results.txt\",\n",
    "    \"ks_test_results.csv\"\n",
    ")\n"
   ]
  },
  {
   "cell_type": "code",
   "execution_count": null,
   "metadata": {},
   "outputs": [],
   "source": []
  }
 ],
 "metadata": {
  "kernelspec": {
   "display_name": "test",
   "language": "python",
   "name": "python3"
  },
  "language_info": {
   "codemirror_mode": {
    "name": "ipython",
    "version": 3
   },
   "file_extension": ".py",
   "mimetype": "text/x-python",
   "name": "python",
   "nbconvert_exporter": "python",
   "pygments_lexer": "ipython3",
   "version": "3.10.12"
  }
 },
 "nbformat": 4,
 "nbformat_minor": 2
}
