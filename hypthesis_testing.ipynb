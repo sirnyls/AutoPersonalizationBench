{
 "cells": [
  {
   "cell_type": "code",
   "execution_count": 10,
   "metadata": {},
   "outputs": [],
   "source": [
    "import pandas as pd\n",
    "SAE = pd.read_csv(\"case2_EducationalDisparity/results/MultiScaleBertAESResults/gpt_base_results.txt\", sep=\"\t\", header=None)\n",
    "ESL = pd.read_csv(\"case2_EducationalDisparity/results/MultiScaleBertAESResults/gpt_ESL_results.txt\", sep=\"\t\", header=None)\n",
    "AAE = pd.read_csv(\"case2_EducationalDisparity/results/MultiScaleBertAESResults/gpt_AAE_results.txt\", sep=\"\t\", header=None)"
   ]
  },
  {
   "cell_type": "code",
   "execution_count": 20,
   "metadata": {},
   "outputs": [],
   "source": [
    "sample_sae = SAE[1].to_numpy()\n",
    "sample_ESL = ESL[1].to_numpy()\n",
    "sample_AAE = AAE[1].to_numpy()"
   ]
  },
  {
   "cell_type": "code",
   "execution_count": 22,
   "metadata": {},
   "outputs": [
    {
     "data": {
      "text/plain": [
       "KstestResult(statistic=0.5363636363636364, pvalue=2.3423551125504076e-14, statistic_location=0.008006727644226289, statistic_sign=-1)"
      ]
     },
     "execution_count": 22,
     "metadata": {},
     "output_type": "execute_result"
    }
   ],
   "source": [
    "import numpy as np\n",
    "from scipy import stats\n",
    "rng = np.random.default_rng()\n",
    "sample1 = stats.uniform.rvs(size=100, random_state=rng)\n",
    "sample2 = stats.norm.rvs(size=110, random_state=rng)\n",
    "stats.ks_2samp(sample1, sample2)"
   ]
  },
  {
   "cell_type": "code",
   "execution_count": 23,
   "metadata": {},
   "outputs": [
    {
     "data": {
      "text/plain": [
       "KstestResult(statistic=0.3996138996138996, pvalue=2.4596841774153674e-37, statistic_location=41.0, statistic_sign=1)"
      ]
     },
     "execution_count": 23,
     "metadata": {},
     "output_type": "execute_result"
    }
   ],
   "source": [
    "stats.ks_2samp(sample_sae, sample_ESL)"
   ]
  },
  {
   "cell_type": "code",
   "execution_count": null,
   "metadata": {},
   "outputs": [],
   "source": [
    "stats.ks_2samp(sample_sae, sample_AAE)"
   ]
  }
 ],
 "metadata": {
  "kernelspec": {
   "display_name": "test",
   "language": "python",
   "name": "python3"
  },
  "language_info": {
   "codemirror_mode": {
    "name": "ipython",
    "version": 3
   },
   "file_extension": ".py",
   "mimetype": "text/x-python",
   "name": "python",
   "nbconvert_exporter": "python",
   "pygments_lexer": "ipython3",
   "version": "3.10.12"
  }
 },
 "nbformat": 4,
 "nbformat_minor": 2
}
