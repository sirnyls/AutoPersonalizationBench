{
 "cells": [
  {
   "cell_type": "code",
   "execution_count": 1,
   "metadata": {},
   "outputs": [],
   "source": [
    "import pandas as pd\n",
    "import numpy as np\n",
    "from scipy import stats\n",
    "import os \n",
    "\n",
    "def perform_t_test_and_save(model_name, sae_path, output_csv_path):\n",
    "    # Load data from text files\n",
    "    df = pd.read_csv(sae_path, sep=\";\")\n",
    "    df['ukGT_usGT_score'] =  pd.to_numeric(df['ukGT_usGT_score'], errors='coerce')\n",
    "    df = df[df['ukGT_usGT_score'] < 0.9]\n",
    "    df = df.dropna()\n",
    "\n",
    "    # Convert dataframes to numpy arrays\n",
    "    sample_us = df.us_score.to_numpy()\n",
    "    sample_gt = df.ukGT_usGT_score.to_numpy()\n",
    "    sample_uk = df.uk_score.to_numpy()\n",
    "    \n",
    "    # Perform KS tests\n",
    "    result_gt_uk = stats.ttest_rel(sample_uk, sample_gt, alternative='greater')\n",
    "    result_gt_us = stats.ttest_rel(sample_us, sample_gt, alternative='greater')\n",
    "    \n",
    "    # Prepare data for CSV\n",
    "    data = [\n",
    "        [model_name, \"GroundTruth_UK\", result_gt_uk.statistic, result_gt_uk.pvalue],\n",
    "        [model_name, \"GroundTruth_US\", result_gt_us.statistic, result_gt_us.pvalue]\n",
    "    ]\n",
    "    \n",
    "    # Create DataFrame\n",
    "    df = pd.DataFrame(data, columns=[\"Model\", \"Metric\", \"Statistic\", \"P-Value\"])\n",
    "    \n",
    "    # Check if the CSV file already exists to decide on adding a header\n",
    "    file_exists = os.path.isfile(output_csv_path)\n",
    "    \n",
    "    # Save to CSV, append if file exists, include header if file does not exist\n",
    "    df.to_csv(output_csv_path, mode='a', index=False, header=not file_exists)\n",
    "    \n",
    "    print(f\"Results saved to {output_csv_path}\")\n"
   ]
  },
  {
   "cell_type": "code",
   "execution_count": 2,
   "metadata": {},
   "outputs": [
    {
     "name": "stdout",
     "output_type": "stream",
     "text": [
      "Results saved to paired_t_test_results_case1.csv\n",
      "Results saved to paired_t_test_results_case1.csv\n",
      "Results saved to paired_t_test_results_case1.csv\n",
      "Results saved to paired_t_test_results_case1.csv\n",
      "Results saved to paired_t_test_results_case1.csv\n",
      "Results saved to paired_t_test_results_case1.csv\n",
      "Results saved to paired_t_test_results_case1.csv\n",
      "Results saved to paired_t_test_results_case1.csv\n"
     ]
    }
   ],
   "source": [
    "perform_t_test_and_save(\n",
    "    \"Llama13B\",\n",
    "    \"/Users/nils/AutoPersonalizationBench/case1_CulturalSensitivity/results/results_llama13B.csv\",\n",
    "    \"paired_t_test_results_case1.csv\"\n",
    ")\n",
    "perform_t_test_and_save(\n",
    "    \"Llama7B\",\n",
    "    \"/Users/nils/AutoPersonalizationBench/case1_CulturalSensitivity/results/results_llama7B.csv\",\n",
    "    \"paired_t_test_results_case1.csv\"\n",
    ")\n",
    "perform_t_test_and_save(\n",
    "    \"Vicuna13B\",\n",
    "    \"/Users/nils/AutoPersonalizationBench/case1_CulturalSensitivity/results/results_vicuna13B.csv\",\n",
    "    \"paired_t_test_results_case1.csv\"\n",
    ")\n",
    "perform_t_test_and_save(\n",
    "    \"Vicuna7B\",\n",
    "    \"/Users/nils/AutoPersonalizationBench/case1_CulturalSensitivity/results/results_vicuna7B.csv\",\n",
    "    \"paired_t_test_results_case1.csv\"\n",
    ")\n",
    "perform_t_test_and_save(\n",
    "    \"Alpaca\",\n",
    "    \"/Users/nils/AutoPersonalizationBench/case1_CulturalSensitivity/results/results_alpaca.csv\",\n",
    "    \"paired_t_test_results_case1.csv\"\n",
    ")\n",
    "perform_t_test_and_save(\n",
    "    \"GPT-4\",\n",
    "    \"/Users/nils/AutoPersonalizationBench/case1_CulturalSensitivity/results/gpt_results.csv\",\n",
    "    \"paired_t_test_results_case1.csv\"\n",
    ")\n",
    "\n",
    "perform_t_test_and_save(\n",
    "    \"Gemini\",\n",
    "    \"/Users/nils/AutoPersonalizationBench/case1_CulturalSensitivity/results/gemini_results.csv\",\n",
    "    \"paired_t_test_results_case1.csv\"\n",
    ")\n",
    "\n",
    "perform_t_test_and_save(\n",
    "    \"Llama-70B\",\n",
    "    \"/Users/nils/AutoPersonalizationBench/case1_CulturalSensitivity/results/llama_results.csv\",\n",
    "    \"paired_t_test_results_case1.csv\"\n",
    ")"
   ]
  },
  {
   "cell_type": "code",
   "execution_count": null,
   "metadata": {},
   "outputs": [],
   "source": []
  }
 ],
 "metadata": {
  "kernelspec": {
   "display_name": "test",
   "language": "python",
   "name": "python3"
  },
  "language_info": {
   "codemirror_mode": {
    "name": "ipython",
    "version": 3
   },
   "file_extension": ".py",
   "mimetype": "text/x-python",
   "name": "python",
   "nbconvert_exporter": "python",
   "pygments_lexer": "ipython3",
   "version": "3.10.12"
  }
 },
 "nbformat": 4,
 "nbformat_minor": 2
}
